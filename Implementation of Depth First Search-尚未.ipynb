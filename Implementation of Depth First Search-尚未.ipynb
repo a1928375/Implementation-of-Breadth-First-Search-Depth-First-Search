{
 "cells": [
  {
   "cell_type": "code",
   "execution_count": 1,
   "metadata": {},
   "outputs": [],
   "source": [
    "graph = {'A': set(['B', 'C']),\n",
    "         'B': set(['A', 'D', 'E']),\n",
    "         'C': set(['A', 'F']),\n",
    "         'D': set(['B']),\n",
    "         'E': set(['B', 'F']),\n",
    "         'F': set(['C', 'E'])}"
   ]
  },
  {
   "cell_type": "markdown",
   "metadata": {},
   "source": [
    "# Iterative"
   ]
  },
  {
   "cell_type": "code",
   "execution_count": 2,
   "metadata": {},
   "outputs": [],
   "source": [
    "def dfs(graph, start):\n",
    "    \n",
    "    visited, stack = set(), [start]\n",
    "    \n",
    "    while stack:\n",
    "        \n",
    "        vertex = stack.pop()\n",
    "        \n",
    "        if vertex not in visited:\n",
    "            \n",
    "            visited.add(vertex)\n",
    "            stack.extend(graph[vertex] - visited)    # visited   &   dictionary的值  不是list，是因為list不能用subtraction(-)\n",
    "                                                     #此line就是讓stack加入vertex的descendents，但是去掉visited已有的elements\n",
    "                                                     #因為是在while loop中，只要stack != None，就會繼續找vertices\n",
    "    return visited\n"
   ]
  },
  {
   "cell_type": "code",
   "execution_count": 3,
   "metadata": {},
   "outputs": [
    {
     "data": {
      "text/plain": [
       "{'A', 'B', 'C', 'D', 'E', 'F'}"
      ]
     },
     "execution_count": 3,
     "metadata": {},
     "output_type": "execute_result"
    }
   ],
   "source": [
    "dfs(graph, 'A') "
   ]
  },
  {
   "cell_type": "markdown",
   "metadata": {},
   "source": [
    "# Recursive"
   ]
  },
  {
   "cell_type": "code",
   "execution_count": null,
   "metadata": {},
   "outputs": [],
   "source": [
    "def dfs(graph, start, visited=None):\n",
    "    \n",
    "    if visited is None:\n",
    "        \n",
    "        visited = set()\n",
    "        \n",
    "    visited.add(start)\n",
    "    \n",
    "    for nxt in graph[start] - visited:\n",
    "        \n",
    "        dfs(graph, nxt, visited)\n",
    "        \n",
    "    return visited\n"
   ]
  },
  {
   "cell_type": "code",
   "execution_count": null,
   "metadata": {},
   "outputs": [],
   "source": [
    "dfs(graph, 'A') "
   ]
  },
  {
   "cell_type": "markdown",
   "metadata": {},
   "source": [
    "# Find path via DFS"
   ]
  },
  {
   "cell_type": "code",
   "execution_count": null,
   "metadata": {},
   "outputs": [],
   "source": [
    "def dfs_paths(graph, start, goal):\n",
    "    \n",
    "    stack = [(start, [start])]\n",
    "    \n",
    "    while stack:\n",
    "        \n",
    "        (vertex, path) = stack.pop()           #一個vertex，一個path\n",
    "        \n",
    "        for nxt in graph[vertex] - set(path):  #graph[vertex]就是此vertex的adjacent elements => 除掉path中的elements，因為path中\n",
    "                                               #的elements就是ancestors，現在是要找descendants\n",
    "            if nxt == goal:                    # nxt == goal => path +[nxt] => 把cumulative的path加上goal \n",
    "                \n",
    "                yield path + [nxt]\n",
    "                \n",
    "            else:                              # nxt != goal => 繼續accumulate path => 併到stack => 繼續往下找\n",
    "                \n",
    "                stack.append((nxt, path + [nxt]))\n"
   ]
  },
  {
   "cell_type": "code",
   "execution_count": null,
   "metadata": {},
   "outputs": [],
   "source": [
    "list(dfs_paths(graph, 'A', 'F'))"
   ]
  }
 ],
 "metadata": {
  "kernelspec": {
   "display_name": "Python 3",
   "language": "python",
   "name": "python3"
  },
  "language_info": {
   "codemirror_mode": {
    "name": "ipython",
    "version": 3
   },
   "file_extension": ".py",
   "mimetype": "text/x-python",
   "name": "python",
   "nbconvert_exporter": "python",
   "pygments_lexer": "ipython3",
   "version": "3.7.3"
  }
 },
 "nbformat": 4,
 "nbformat_minor": 2
}
